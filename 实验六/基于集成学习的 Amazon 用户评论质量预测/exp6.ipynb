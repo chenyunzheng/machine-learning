{
 "cells": [
  {
   "cell_type": "markdown",
   "metadata": {},
   "source": [
    "# Exp6: 基于集成学习的 Amazon 用户评论质量预测"
   ]
  },
  {
   "cell_type": "markdown",
   "metadata": {},
   "source": [
    "## 一、案例简介\n",
    "\n",
    "随着电商平台的兴起，以及疫情的持续影响，线上购物在我们的日常生活中扮演着越来越重要的角色。在进行线上商品挑选时，评论往往是我们十分关注的一个方面。然而目前电商网站的评论质量参差不齐，甚至有水军刷好评或者恶意差评的情况出现，严重影响了顾客的购物体验。因此，对于评论质量的预测成为电商平台越来越关注的话题，如果能自动对评论质量进行评估，就能根据预测结果避免展现低质量的评论。本案例中我们将基于集成学习的方法对 Amazon 现实场景中的评论质量进行预测。\n",
    "\n",
    "## 二、作业说明\n",
    "\n",
    "本案例中需要大家完成两种集成学习算法的实现（Bagging、AdaBoost.M1），其中基分类器要求使用 SVM 和决策树两种，因此，一共需要对比四组结果（[AUC](https://scikit-learn.org/stable/modules/model_evaluation.html#roc-metrics) 作为评价指标）：\n",
    "\n",
    "* Bagging + SVM\n",
    "* Bagging + 决策树\n",
    "* AdaBoost.M1 + SVM\n",
    "* AdaBoost.M1 + 决策树\n",
    "\n",
    "注意集成学习的核心算法需要**手动进行实现**，基分类器可以调库。\n",
    "\n",
    "### 基本要求\n",
    "* 根据数据格式设计特征的表示\n",
    "* 汇报不同组合下得到的 AUC\n",
    "* 结合不同集成学习算法的特点分析结果之间的差异\n",
    "* （使用 sklearn 等第三方库的集成学习算法会酌情扣分）\n",
    "\n",
    "### 扩展要求\n",
    "* 尝试其他基分类器（如 k-NN、朴素贝叶斯）\n",
    "* 分析不同特征的影响\n",
    "* 分析集成学习算法参数的影响"
   ]
  },
  {
   "cell_type": "markdown",
   "metadata": {},
   "source": [
    "## 三、数据概览"
   ]
  },
  {
   "cell_type": "code",
   "execution_count": 32,
   "metadata": {},
   "outputs": [],
   "source": [
    "import numpy as np\n",
    "import pandas as pd\n",
    "train_df = pd.read_csv('./data/train.csv', sep='\\t')\n",
    "test_df = pd.read_csv('./data/test.csv', sep='\\t')\n",
    "y_test_df = pd.read_csv('./groundTruth.csv', sep=',')"
   ]
  },
  {
   "cell_type": "code",
   "execution_count": 33,
   "metadata": {},
   "outputs": [
    {
     "name": "stdout",
     "output_type": "stream",
     "text": [
      "<class 'pandas.core.frame.DataFrame'>\n",
      "RangeIndex: 57039 entries, 0 to 57038\n",
      "Data columns (total 7 columns):\n",
      " #   Column      Non-Null Count  Dtype  \n",
      "---  ------      --------------  -----  \n",
      " 0   reviewerID  57039 non-null  int64  \n",
      " 1   asin        57039 non-null  int64  \n",
      " 2   reviewText  57039 non-null  object \n",
      " 3   overall     57039 non-null  float64\n",
      " 4   votes_up    57039 non-null  int64  \n",
      " 5   votes_all   57039 non-null  int64  \n",
      " 6   label       57039 non-null  int64  \n",
      "dtypes: float64(1), int64(5), object(1)\n",
      "memory usage: 3.0+ MB\n",
      "<class 'pandas.core.frame.DataFrame'>\n",
      "RangeIndex: 11208 entries, 0 to 11207\n",
      "Data columns (total 5 columns):\n",
      " #   Column      Non-Null Count  Dtype  \n",
      "---  ------      --------------  -----  \n",
      " 0   Id          11208 non-null  int64  \n",
      " 1   reviewerID  11208 non-null  int64  \n",
      " 2   asin        11208 non-null  int64  \n",
      " 3   reviewText  11208 non-null  object \n",
      " 4   overall     11208 non-null  float64\n",
      "dtypes: float64(1), int64(3), object(1)\n",
      "memory usage: 437.9+ KB\n"
     ]
    }
   ],
   "source": [
    "train_df.info()\n",
    "test_df.info()"
   ]
  },
  {
   "cell_type": "markdown",
   "metadata": {},
   "source": [
    "本次数据来源于 Amazon 电商平台，包含超过 50,000 条用户在购买商品后留下的评论，各列的含义如下：\n",
    "\n",
    "* reviewerID：用户 ID\n",
    "* asin：商品 ID\n",
    "* reviewText：英文评论文本\n",
    "* overall：用户对商品的打分（1-5）\n",
    "* votes_up：认为评论有用的点赞数（只在训练集出现）\n",
    "* votes_all：该评论得到的总评价数（只在训练集出现）\n",
    "* label：评论质量的 label，1 表示高质量，0 表示低质量（只在训练集出现）\n",
    "\n",
    "评论质量的 label 来自于其他用户对评论的 votes，votes_up/votes_all ≥ 0.9 的作为高质量评论。此外测试集包含一个额外的列Id，标识了每一个测试的样例。"
   ]
  },
  {
   "cell_type": "markdown",
   "metadata": {},
   "source": [
    "## 四、比赛提交格式\n",
    "\n",
    "课程页面：https://aistudio.baidu.com/aistudio/education/dashboard\n",
    "\n",
    "提交文件需要对测试集中每一条评论给出预测为高质量的概率，每行包括一个Id（和测试集对应）以及预测的概率Predicted（0-1的浮点数），用逗号分隔。示例提交格式如下：\n",
    "\n",
    "```\n",
    "Id,Predicted\n",
    "0,0.9\n",
    "1,0.45\n",
    "2,0.78\n",
    "...\n",
    "```\n",
    "命名为`result.csv`"
   ]
  },
  {
   "cell_type": "markdown",
   "metadata": {},
   "source": [
    "**注意除了提交比赛，还需要像之前作业一样在学堂在线提交代码和报告（不包括数据）**"
   ]
  },
  {
   "cell_type": "code",
   "execution_count": 34,
   "metadata": {
    "pycharm": {
     "name": "#%%\n"
    }
   },
   "outputs": [],
   "source": [
    "from sklearn.model_selection import train_test_split\n",
    "from sklearn.feature_extraction.text import TfidfVectorizer\n",
    "from sklearn.preprocessing import MinMaxScaler\n",
    "from sklearn.tree import DecisionTreeClassifier\n",
    "from sklearn.naive_bayes import MultinomialNB\n",
    "from sklearn.calibration import CalibratedClassifierCV\n",
    "from sklearn.svm import LinearSVC\n",
    "from sklearn.neighbors import KNeighborsClassifier\n",
    "from sklearn.ensemble import AdaBoostClassifier\n",
    "from sklearn.metrics import roc_auc_score, accuracy_score\n",
    "import numpy as np\n",
    "import pandas as pd\n",
    "\n",
    "# 实现Bagging算法\n",
    "def bagging(X, y=None, sampling_rate=0.8, iter=5, classifier_name=None):\n",
    "    models = []  # trained models list\n",
    "    # boostrap sampling\n",
    "    for i in range(iter):\n",
    "        # random train set - bootstrap sampling\n",
    "        X_train, X_test, y_train, y_test = train_test_split(X, y, train_size=sampling_rate)\n",
    "        classifier = new_base_classifier(classifier_name)\n",
    "        clf = classifier.fit(X_train, y_train)\n",
    "        models.append(clf)\n",
    "    print(\"Bagging using base classifier = '{}', End with iter = {}\".format(classifier_name, iter))\n",
    "\n",
    "    # max count as the final result (equal weighted or weighted based on vote_up/vote_all todo)\n",
    "    def predict(X_test):\n",
    "        y_test_predict_list = [models[i].predict_proba(X_test) for i in range(len(models))]\n",
    "        # [np.argmax(np.bincount(item)) for item in np.array(y_test_predict_list).T]\n",
    "        # 根据组合概率判定类别\n",
    "        proba_arr = np.zeros((X_test.shape[0], 2))\n",
    "        for item in y_test_predict_list:\n",
    "            proba_arr += item\n",
    "        return [item[1]/len(models) for item in proba_arr]\n",
    "\n",
    "    return predict\n"
   ]
  },
  {
   "cell_type": "code",
   "execution_count": 35,
   "metadata": {
    "pycharm": {
     "name": "#%%\n"
    }
   },
   "outputs": [],
   "source": [
    "# 实现AdaBoost.M1算法\n",
    "def ada_boost_m1(X, y=None, classifiers_map=None, iter=5):\n",
    "    \"\"\"\n",
    "    :param classifiers_map: different classifiers(map): Decision Tree, K-NN, SVM, etc\n",
    "    \"\"\"\n",
    "    classifier_names_arr = list(classifiers_map.keys())\n",
    "    cn_index = 0\n",
    "    classifier_name = classifier_names_arr[cn_index]\n",
    "    curr_base_classifier = classifiers_map[classifier_name]\n",
    "    classifier_changed = False\n",
    "    X_copy = np.copy(X)\n",
    "    models = []\n",
    "    coeff = []\n",
    "    classifier_in_use_names = []\n",
    "    weights = np.ones(X.shape[0], dtype=np.float64) / X.shape[0]  # votes_up/votes_all may be as the initial weights\n",
    "    num = 0\n",
    "    while num < iter:\n",
    "        clf = curr_base_classifier.fit(X, y)\n",
    "        y_predict = clf.predict(X)\n",
    "        y_diff = (y - y_predict)  # -1/0/1\n",
    "        print(\"==> train_predict_error = {}\".format(len(weights[y_diff != 0]) / float(len(weights))))\n",
    "        # calculate error ratio\n",
    "        e = np.sum(weights[y_diff != 0])\n",
    "        if e == 0.0:\n",
    "            print( \"Error ratio of sample classification is 0: classifier = '{}', iter = {}\".format(classifier_name, num))\n",
    "            e = 1e-16  # 防止零溢出\n",
    "        if e >= 0.5:\n",
    "            # raise Exception(\"iter = %d, e = %.4f, and need to change a better classifier\" % (i, e))\n",
    "            print(\"ERROR >= 0.5, AdaBoost.M1 using '{}', end with e = {}, and iter = {}\".format(classifier_name, e, num))\n",
    "            print(\"Change to another type of classifier and continue...\")\n",
    "            cn_index = cn_index + 1\n",
    "            while cn_index < len(classifier_names_arr):\n",
    "                name = classifier_names_arr[cn_index]\n",
    "                if name not in classifier_in_use_names:\n",
    "                    break\n",
    "                cn_index = cn_index + 1\n",
    "            if cn_index >= len(classifier_names_arr):\n",
    "                print(\"No available classifier\")\n",
    "                num = iter\n",
    "                continue\n",
    "            # change to another classifier and go back to fit previous X\n",
    "            classifier_name = classifier_names_arr[cn_index]\n",
    "            curr_base_classifier = classifiers_map[classifier_name]\n",
    "            X = X_copy\n",
    "            if not classifier_changed:\n",
    "                num = num - 1\n",
    "                classifier_changed = True\n",
    "            continue\n",
    "        # adjust weights\n",
    "        factor = e / (1 - e)\n",
    "        for index in range(len(weights)):\n",
    "            weights[index] = (weights[index] * factor) if y_diff[index] == 0.0 else weights[index]\n",
    "        weights /= sum(weights)\n",
    "        X = np.multiply(weights.reshape(-1, 1), X)\n",
    "        X_copy = np.copy(X)\n",
    "        models.append(clf)\n",
    "        coeff.append(np.log(1 / factor))\n",
    "        # 每次拟合后，若基分类器不变，下次拟合仍需要使用基分类器，而不是由基分类器拟合数据而得到的分类器实例！！！\n",
    "        # 如果使用分类器实例，则现象是得到的predict_proba一样，最终的predict概率也会一样！！！\n",
    "        curr_base_classifier = new_base_classifier(classifier_name)\n",
    "        classifier_in_use_names.append(classifier_name)\n",
    "        classifier_changed = False\n",
    "        num = num + 1\n",
    "    print(\"AdaBoost.M1 using base classifier = '{}', End normally with iter = {}\".format(\n",
    "        ','.join(classifier_in_use_names), num))\n",
    "\n",
    "    def predict(X_test):\n",
    "        coeff_sum = sum(coeff)\n",
    "        y_test_predict_list = [(models[i].predict_proba(X_test) * coeff[i] / coeff_sum) for i in range(len(models))]\n",
    "        message = [\"{}*{}\".format(np.around(coeff[i] / coeff_sum, 4), classifier_in_use_names[i]) for i in range(len(models))]\n",
    "        proba_arr = np.zeros((X_test.shape[0], 2))\n",
    "        # 根据组合概率判定类别\n",
    "        for item in y_test_predict_list:\n",
    "            proba_arr += item\n",
    "        return [item[1] for item in proba_arr], '+'.join(message)\n",
    "\n",
    "    return predict"
   ]
  },
  {
   "cell_type": "code",
   "execution_count": 36,
   "metadata": {
    "pycharm": {
     "name": "#%%\n"
    }
   },
   "outputs": [],
   "source": [
    "# Base classifier creator\n",
    "def new_base_classifier(classifier_name):\n",
    "    bc = None\n",
    "    if classifier_name == 'SVM':\n",
    "        bc = CalibratedClassifierCV(LinearSVC(dual=False))\n",
    "    elif classifier_name == 'DecisionTree':\n",
    "        bc = DecisionTreeClassifier()\n",
    "    elif classifier_name == 'NaiveBayes':\n",
    "        bc = MultinomialNB()\n",
    "    elif classifier_name == 'KNN':\n",
    "        bc = KNeighborsClassifier(n_neighbors=2)\n",
    "    else:\n",
    "        raise Exception(\"Unknown classifier_name = {}\".format(classifier_name))\n",
    "    return bc"
   ]
  },
  {
   "cell_type": "code",
   "execution_count": 37,
   "metadata": {},
   "outputs": [
    {
     "name": "stdout",
     "output_type": "stream",
     "text": [
      "text features' length = 580\n"
     ]
    }
   ],
   "source": [
    "# 根据数据格式设计特征的表示\n",
    "### 提取特征，考虑评论文本长度同评论质量会有一定相关性\n",
    "max_features = 5000\n",
    "# 加载停用词\n",
    "stop_words = []\n",
    "for word in open('./stopwords-en.txt', encoding='utf8', mode='r'):\n",
    "    stop_words.append(word.strip())\n",
    "\n",
    "## 特征值化训练集\n",
    "review_df = train_df['reviewText']\n",
    "vectorizer = TfidfVectorizer(max_features=max_features, min_df=0.02, max_df=1.0, stop_words=stop_words)\n",
    "vectorizer.fit(review_df)\n",
    "print(\"text features' length =\", len(vectorizer.get_feature_names_out()))\n",
    "review_feat_arr = vectorizer.transform(review_df).toarray()\n",
    "# 加入评论文本长度作为特征之一（长评论意味着高质量的概率大）\n",
    "review_length_arr = [len(item) for item in review_df]\n",
    "features_arr = np.concatenate(\n",
    "    (review_feat_arr, train_df['overall'].values.reshape(-1, 1), np.reshape(review_length_arr, (-1, 1))), axis=1)\n",
    "# 归一化 ['reviewText', 'overall', 评论文本长度] 三列\n",
    "scaler = MinMaxScaler()\n",
    "X_train = scaler.fit_transform(features_arr)\n",
    "y_train = train_df['label'].values\n",
    "\n",
    "## 特征值化测试集\n",
    "review_df = test_df['reviewText']\n",
    "review_feat_arr = vectorizer.transform(review_df).toarray()\n",
    "# 加入评论文本长度作为特征之一（长评论意味着高质量的概率大）\n",
    "review_length_arr = [len(item) for item in review_df]\n",
    "features_arr = np.concatenate(\n",
    "    (review_feat_arr, test_df['overall'].values.reshape(-1, 1), np.reshape(review_length_arr, (-1, 1))), axis=1)\n",
    "# 归一化 ['reviewText', 'overall', 评论文本长度] 三列\n",
    "scaler = MinMaxScaler()\n",
    "X_test = scaler.fit_transform(features_arr)\n",
    "y_test = y_test_df['Expected'].values\n"
   ]
  },
  {
   "cell_type": "code",
   "execution_count": 38,
   "metadata": {
    "pycharm": {
     "name": "#%%\n"
    }
   },
   "outputs": [
    {
     "name": "stdout",
     "output_type": "stream",
     "text": [
      "Accuracy using (DecisionTree) = 0.7131513204853676\n",
      "AUC using (DecisionTree) = 0.5968881321547601\n",
      "---------------------------------------------------------------------\n",
      "Bagging using base classifier = 'DecisionTree', End with iter = 5\n",
      "Accuracy using (Bagging + DecisionTree) = 0.7486616702355461\n",
      "AUC using (Bagging + DecisionTree) = 0.5955191358959835\n",
      "*********************************************************************\n",
      "==> train_predict_error = 0.0\n",
      "Error ratio of sample classification is 0: classifier = 'DecisionTree', iter = 0\n",
      "==> train_predict_error = 8.765932081558232e-05\n",
      "==> train_predict_error = 0.22610845211171304\n",
      "==> train_predict_error = 0.22619611143252863\n",
      "ERROR >= 0.5, AdaBoost.M1 using 'DecisionTree', end with e = 0.7818693103749933, and iter = 3\n",
      "Change to another type of classifier and continue...\n",
      "==> train_predict_error = 0.22619611143252863\n",
      "ERROR >= 0.5, AdaBoost.M1 using 'SVM', end with e = 0.7818693103749933, and iter = 2\n",
      "Change to another type of classifier and continue...\n",
      "==> train_predict_error = 0.22619611143252863\n",
      "ERROR >= 0.5, AdaBoost.M1 using 'NaiveBayes', end with e = 0.7818693103749933, and iter = 2\n",
      "Change to another type of classifier and continue...\n",
      "No available classifier\n",
      "AdaBoost.M1 using base classifier = 'DecisionTree,DecisionTree,DecisionTree', End normally with iter = 20\n",
      "Accuracy using (AdaBoost.M1: 0.7637*DecisionTree+0.1936*DecisionTree+0.0427*DecisionTree) = 0.7172555317630264\n",
      "AUC using (AdaBoost.M1: 0.7637*DecisionTree+0.1936*DecisionTree+0.0427*DecisionTree) = 0.5985354148278905\n",
      "#####################################################################\n",
      "Accuracy using (SVM) = 0.7952355460385439\n",
      "AUC using (SVM) = 0.6339288360711887\n",
      "---------------------------------------------------------------------\n",
      "Bagging using base classifier = 'SVM', End with iter = 5\n",
      "Accuracy using (Bagging + SVM) = 0.7985367594575303\n",
      "AUC using (Bagging + SVM) = 0.6315187357563462\n",
      "*********************************************************************\n",
      "==> train_predict_error = 0.20606953137327091\n",
      "==> train_predict_error = 0.22619611143252863\n",
      "==> train_predict_error = 0.22619611143252863\n",
      "==> train_predict_error = 0.22619611143252863\n",
      "ERROR >= 0.5, AdaBoost.M1 using 'SVM', end with e = 0.5000000000001277, and iter = 3\n",
      "Change to another type of classifier and continue...\n",
      "==> train_predict_error = 0.22619611143252863\n",
      "ERROR >= 0.5, AdaBoost.M1 using 'DecisionTree', end with e = 0.5000000000001277, and iter = 2\n",
      "Change to another type of classifier and continue...\n",
      "==> train_predict_error = 0.22619611143252863\n",
      "ERROR >= 0.5, AdaBoost.M1 using 'NaiveBayes', end with e = 0.5000000000001277, and iter = 2\n",
      "Change to another type of classifier and continue...\n",
      "No available classifier\n",
      "AdaBoost.M1 using base classifier = 'SVM,SVM,SVM', End normally with iter = 20\n",
      "Accuracy using (AdaBoost.M1: 0.8567*SVM+0.1433*SVM+0.0*SVM) = 0.8035331905781584\n",
      "AUC using (AdaBoost.M1: 0.8567*SVM+0.1433*SVM+0.0*SVM) = 0.6139545816811792\n",
      "#####################################################################\n",
      "Accuracy using (NaiveBayes) = 0.8090649536045682\n",
      "AUC using (NaiveBayes) = 0.5262153212314422\n",
      "---------------------------------------------------------------------\n",
      "Bagging using base classifier = 'NaiveBayes', End with iter = 5\n",
      "Accuracy using (Bagging + NaiveBayes) = 0.8093326195574589\n",
      "AUC using (Bagging + NaiveBayes) = 0.5267369024252084\n",
      "*********************************************************************\n",
      "==> train_predict_error = 0.22079629727028874\n",
      "==> train_predict_error = 0.22619611143252863\n",
      "==> train_predict_error = 0.22619611143252863\n",
      "ERROR >= 0.5, AdaBoost.M1 using 'NaiveBayes', end with e = 0.5000000000003393, and iter = 2\n",
      "Change to another type of classifier and continue...\n",
      "==> train_predict_error = 0.22619611143252863\n",
      "ERROR >= 0.5, AdaBoost.M1 using 'DecisionTree', end with e = 0.5000000000003393, and iter = 1\n",
      "Change to another type of classifier and continue...\n",
      "==> train_predict_error = 0.22619611143252863\n",
      "ERROR >= 0.5, AdaBoost.M1 using 'SVM', end with e = 0.5000000000003393, and iter = 1\n",
      "Change to another type of classifier and continue...\n",
      "No available classifier\n",
      "AdaBoost.M1 using base classifier = 'NaiveBayes,NaiveBayes', End normally with iter = 20\n",
      "Accuracy using (AdaBoost.M1: 0.9788*NaiveBayes+0.0212*NaiveBayes) = 0.8094218415417559\n",
      "AUC using (AdaBoost.M1: 0.9788*NaiveBayes+0.0212*NaiveBayes) = 0.5251896546613797\n",
      "#####################################################################\n"
     ]
    }
   ],
   "source": [
    "# 汇报不同组合下得到的 AUC\n",
    "### 实例化各个分类器\n",
    "clf_dict = {\n",
    "    'DecisionTree': new_base_classifier(\"DecisionTree\"),\n",
    "    'SVM': new_base_classifier(\"SVM\"),\n",
    "    'NaiveBayes': new_base_classifier(\"NaiveBayes\"),\n",
    "    # 'KNN': new_base_classifier(\"KNN\")\n",
    "}\n",
    "for key, value in clf_dict.items():\n",
    "    ## Base classifier\n",
    "    base_classifier = value\n",
    "    clf = base_classifier.fit(X_train, y_train)\n",
    "    y_test_predict = clf.predict(X_test)\n",
    "    print(\"Accuracy using ({}) = {}\".format(key, accuracy_score(y_test, y_test_predict)))\n",
    "    print(\"AUC using ({}) = {}\".format(key, roc_auc_score(y_test, y_test_predict)))\n",
    "    print(\"---------------------------------------------------------------------\")\n",
    "    ## Bagging\n",
    "    bagg = bagging(X_train, y_train, sampling_rate=0.8, iter=5, classifier_name=key)\n",
    "    y_test_predict_bagg_proba = bagg(X_test)\n",
    "    y_test_predict_bagg = [1 if item >= 0.5 else 0 for item in y_test_predict_bagg_proba]\n",
    "    print(\"Accuracy using (Bagging + {}) = {}\".format(key, accuracy_score(y_test, y_test_predict_bagg)))\n",
    "    print(\"AUC using (Bagging + {}) = {}\".format(key, roc_auc_score(y_test, y_test_predict_bagg)))\n",
    "    print(\"*********************************************************************\")\n",
    "    # 生成结果文件\n",
    "    res_id_col = np.arange(X_test.shape[0], dtype=int).reshape(-1, 1)\n",
    "    res_bagg_predict_col = np.reshape(y_test_predict_bagg_proba, (-1, 1))\n",
    "    df = pd.DataFrame(np.concatenate((res_id_col, res_bagg_predict_col), axis=1), columns=['Id', 'Predicted'])\n",
    "    df.to_csv(\"./Exp6-Bagging-{}.csv\".format(key), index=False)\n",
    "    ## AdaBoost.M1\n",
    "    base_classifiers_map = dict()\n",
    "    base_classifiers_map[key] = new_base_classifier(key)\n",
    "    for k, v in clf_dict.items():\n",
    "        if k != key:\n",
    "            base_classifiers_map[k] = new_base_classifier(k)\n",
    "    ada_boost = ada_boost_m1(X_train, y_train, iter=20, classifiers_map=base_classifiers_map)\n",
    "    y_test_predict_ada_boost_proba, classifier_names = ada_boost(X_test)\n",
    "    y_test_predict_ada_boost = [1 if item >= 0.5 else 0 for item in y_test_predict_ada_boost_proba]\n",
    "    print(\"Accuracy using (AdaBoost.M1: {}) = {}\".format(classifier_names, accuracy_score(y_test, y_test_predict_ada_boost)))\n",
    "    print(\"AUC using (AdaBoost.M1: {}) = {}\".format(classifier_names, roc_auc_score(y_test, y_test_predict_ada_boost)))\n",
    "    # 生成结果文件\n",
    "    res_adaboost_predict_col = np.reshape(y_test_predict_ada_boost_proba, (-1, 1))\n",
    "    df = pd.DataFrame(np.concatenate((res_id_col, res_adaboost_predict_col), axis=1), columns=['Id', 'Predicted'])\n",
    "    classifier_names = classifier_names.replace(\"*\", \"x\")\n",
    "    df.to_csv(\"./Exp6-AdaBoost-{}.csv\".format(classifier_names), index=False)\n",
    "    print(\"#####################################################################\")\n"
   ]
  },
  {
   "cell_type": "markdown",
   "metadata": {
    "pycharm": {
     "name": "#%% md\n"
    }
   },
   "source": [
    "### 结合不同集成学习算法的特点分析结果之间的差异\n",
    "根据以上输出结果分析如下，\n",
    "\n",
    "如下AUC指标表明，Bagging和AdaBoost在弱分类器作为基分类器的情形下，大概率好于单个分类器的预测结果\n",
    "\n",
    "1. (AdaBoost.M1 + DecisionTree) > (DecisionTree) > (Bagging + DecisionTree)\n",
    "\n",
    "AUC using (DecisionTree) = 0.5968881321547601\n",
    "\n",
    "AUC using (Bagging + DecisionTree) = 0.5955191358959835\n",
    "\n",
    "AUC using (AdaBoost.M1: 0.7637*DecisionTree+0.1936*DecisionTree+0.0427*DecisionTree) = 0.5985354148278905\n",
    "\n",
    "\n",
    "2. (SVM) > (Bagging + SVM) > (AdaBoost.M1 + SVM)\n",
    "\n",
    "AUC using (SVM) = 0.6339288360711887\n",
    "\n",
    "AUC using (Bagging + SVM) = 0.6315187357563462\n",
    "\n",
    "AUC using (AdaBoost.M1: 0.8567*SVM+0.1433*SVM+0.0*SVM) = 0.6139545816811792\n",
    "\n",
    "\n",
    "3. (Bagging + NaiveBayes) > (NaiveBayes) > (AdaBoost.M1 + NaiveBayes)\n",
    "\n",
    "AUC using (NaiveBayes) = 0.5262153212314422\n",
    "\n",
    "AUC using (Bagging + NaiveBayes) = 0.5267369024252084\n",
    "\n",
    "AUC using (AdaBoost.M1: 0.9788*NaiveBayes+0.0212*NaiveBayes) = 0.5251896546613797\n"
   ]
  },
  {
   "cell_type": "markdown",
   "metadata": {
    "pycharm": {
     "is_executing": true,
     "name": "#%% md\n"
    }
   },
   "source": [
    "### 尝试其他基分类器（如 k-NN、朴素贝叶斯）\n",
    "以上实验对比中已加入朴素贝叶斯分类器（k-NN运行时间有些长，暂未加入对比）\n",
    "### 分析不同特征的影响\n",
    "根据如下程序运行结果图示，\n",
    "1. AdaBoost算法下，Accuracy和AUC均在特征数量300左右达到最低；\n",
    "2. Bagging算法下，Accuracy和AUC在特征数量300左右达到最低；"
   ]
  },
  {
   "cell_type": "code",
   "execution_count": 39,
   "metadata": {
    "pycharm": {
     "name": "#%%\n"
    }
   },
   "outputs": [
    {
     "name": "stdout",
     "output_type": "stream",
     "text": [
      "text features' length = 50\n",
      "Bagging using base classifier = 'DecisionTree', End with iter = 5\n",
      "Accuracy using (Bagging + DecisionTree) = 0.7657922912205567\n",
      "AUC using (Bagging + DecisionTree) = 0.585991325367865\n",
      "==> train_predict_error = 0.0005785515173828433\n",
      "==> train_predict_error = 0.008730868353231998\n",
      "==> train_predict_error = 0.22565262364347202\n",
      "ERROR >= 0.5, AdaBoost.M1 using 'DecisionTree', end with e = 0.5391134137091597, and iter = 2\n",
      "Change to another type of classifier and continue...\n",
      "No available classifier\n",
      "AdaBoost.M1 using base classifier = 'DecisionTree,DecisionTree', End normally with iter = 20\n",
      "Accuracy using (AdaBoost.M1: 0.5786*DecisionTree+0.4214*DecisionTree) = 0.734475374732334\n",
      "AUC using (AdaBoost.M1: 0.5786*DecisionTree+0.4214*DecisionTree) = 0.5803385296597331\n",
      "============== max_features = 50 end ==============\n",
      "text features' length = 100\n",
      "Bagging using base classifier = 'DecisionTree', End with iter = 5\n",
      "Accuracy using (Bagging + DecisionTree) = 0.7635617416131335\n",
      "AUC using (Bagging + DecisionTree) = 0.5867487913477626\n",
      "==> train_predict_error = 3.506372832623293e-05\n",
      "==> train_predict_error = 0.001928505057942811\n",
      "==> train_predict_error = 0.2261610477042024\n",
      "ERROR >= 0.5, AdaBoost.M1 using 'DecisionTree', end with e = 0.5379499427256162, and iter = 2\n",
      "Change to another type of classifier and continue...\n",
      "No available classifier\n",
      "AdaBoost.M1 using base classifier = 'DecisionTree,DecisionTree', End normally with iter = 20\n",
      "Accuracy using (AdaBoost.M1: 0.5964*DecisionTree+0.4036*DecisionTree) = 0.7356352605281942\n",
      "AUC using (AdaBoost.M1: 0.5964*DecisionTree+0.4036*DecisionTree) = 0.5915603469852854\n",
      "============== max_features = 100 end ==============\n",
      "text features' length = 300\n",
      "Bagging using base classifier = 'DecisionTree', End with iter = 5\n",
      "Accuracy using (Bagging + DecisionTree) = 0.7458957887223412\n",
      "AUC using (Bagging + DecisionTree) = 0.5859750645492747\n",
      "==> train_predict_error = 0.0\n",
      "Error ratio of sample classification is 0: classifier = 'DecisionTree', iter = 0\n",
      "==> train_predict_error = 0.00022791423412051403\n",
      "==> train_predict_error = 0.2259681971984081\n",
      "==> train_predict_error = 0.22619611143252863\n",
      "ERROR >= 0.5, AdaBoost.M1 using 'DecisionTree', end with e = 0.781852060537086, and iter = 3\n",
      "Change to another type of classifier and continue...\n",
      "No available classifier\n",
      "AdaBoost.M1 using base classifier = 'DecisionTree,DecisionTree,DecisionTree', End normally with iter = 20\n",
      "Accuracy using (AdaBoost.M1: 0.7791*DecisionTree+0.1773*DecisionTree+0.0436*DecisionTree) = 0.7127944325481799\n",
      "AUC using (AdaBoost.M1: 0.7791*DecisionTree+0.1773*DecisionTree+0.0436*DecisionTree) = 0.5818896882533492\n",
      "============== max_features = 300 end ==============\n",
      "text features' length = 500\n",
      "Bagging using base classifier = 'DecisionTree', End with iter = 5\n",
      "Accuracy using (Bagging + DecisionTree) = 0.7512491077801571\n",
      "AUC using (Bagging + DecisionTree) = 0.5983651908155603\n",
      "==> train_predict_error = 0.0\n",
      "Error ratio of sample classification is 0: classifier = 'DecisionTree', iter = 0\n",
      "==> train_predict_error = 0.00012272304914181525\n",
      "==> train_predict_error = 0.2260733883833868\n",
      "==> train_predict_error = 0.22619611143252863\n",
      "ERROR >= 0.5, AdaBoost.M1 using 'DecisionTree', end with e = 0.7818649981716571, and iter = 3\n",
      "Change to another type of classifier and continue...\n",
      "No available classifier\n",
      "AdaBoost.M1 using base classifier = 'DecisionTree,DecisionTree,DecisionTree', End normally with iter = 20\n",
      "Accuracy using (AdaBoost.M1: 0.769*DecisionTree+0.188*DecisionTree+0.043*DecisionTree) = 0.7124375446109922\n",
      "AUC using (AdaBoost.M1: 0.769*DecisionTree+0.188*DecisionTree+0.043*DecisionTree) = 0.5941322321534428\n",
      "============== max_features = 500 end ==============\n"
     ]
    }
   ],
   "source": [
    "train_review_df = train_df['reviewText']\n",
    "test_review_df = test_df['reviewText']\n",
    "x_axis = [50, 100, 300, 500]\n",
    "acc_arr = []\n",
    "auc_arr = []\n",
    "for max_features in x_axis:\n",
    "    vectorizer = TfidfVectorizer(max_features=max_features, min_df=0.02, max_df=1.0, stop_words=stop_words)\n",
    "    vectorizer.fit(train_review_df)\n",
    "    print(\"text features' length =\", len(vectorizer.get_feature_names_out()))\n",
    "    ## 特征值化训练集\n",
    "    review_feat_arr = vectorizer.transform(train_review_df).toarray()\n",
    "    review_length_arr = [len(item) for item in train_review_df]\n",
    "    features_arr = np.concatenate(\n",
    "        (review_feat_arr, train_df['overall'].values.reshape(-1, 1), np.reshape(review_length_arr, (-1, 1))), axis=1)\n",
    "    scaler = MinMaxScaler()\n",
    "    X_train = scaler.fit_transform(features_arr)\n",
    "    y_train = train_df['label'].values\n",
    "    ## 特征值化测试集\n",
    "    review_feat_arr = vectorizer.transform(test_review_df).toarray()\n",
    "    review_length_arr = [len(item) for item in test_review_df]\n",
    "    features_arr = np.concatenate(\n",
    "        (review_feat_arr, test_df['overall'].values.reshape(-1, 1), np.reshape(review_length_arr, (-1, 1))), axis=1)\n",
    "    scaler = MinMaxScaler()\n",
    "    X_test = scaler.fit_transform(features_arr)\n",
    "    y_test = y_test_df['Expected'].values\n",
    "    ## Bagging\n",
    "    bagg = bagging(X_train, y_train, sampling_rate=0.8, iter=5, classifier_name=\"DecisionTree\")\n",
    "    y_test_predict_bagg_proba = bagg(X_test)\n",
    "    y_test_predict_bagg = [1 if item >= 0.5 else 0 for item in y_test_predict_bagg_proba]\n",
    "    acc_bagg = accuracy_score(y_test, y_test_predict_bagg)\n",
    "    auc_bagg = roc_auc_score(y_test, y_test_predict_bagg)\n",
    "    print(\"Accuracy using (Bagging + {}) = {}\".format(\"DecisionTree\", acc_bagg))\n",
    "    print(\"AUC using (Bagging + {}) = {}\".format(\"DecisionTree\", auc_bagg))\n",
    "    ## AdaBoost\n",
    "    clf_dict = {\n",
    "        'DecisionTree': new_base_classifier(\"DecisionTree\")\n",
    "    }\n",
    "    ada_boost = ada_boost_m1(X_train, y_train, iter=20, classifiers_map=clf_dict)\n",
    "    y_test_predict_ada_boost_proba, classifier_names = ada_boost(X_test)\n",
    "    y_test_predict_ada_boost = [1 if item >= 0.5 else 0 for item in y_test_predict_ada_boost_proba]\n",
    "    acc_ada_boost = accuracy_score(y_test, y_test_predict_ada_boost)\n",
    "    auc_ada_boost = roc_auc_score(y_test, y_test_predict_ada_boost)\n",
    "    print(\"Accuracy using (AdaBoost.M1: {}) = {}\".format(classifier_names, acc_ada_boost))\n",
    "    print(\"AUC using (AdaBoost.M1: {}) = {}\".format(classifier_names, auc_ada_boost))\n",
    "    acc_arr.append((acc_bagg, acc_ada_boost))\n",
    "    auc_arr.append((auc_bagg, auc_ada_boost))\n",
    "    print(\"============== max_features =\", max_features, \"end ==============\")\n"
   ]
  },
  {
   "cell_type": "code",
   "execution_count": 40,
   "metadata": {
    "pycharm": {
     "name": "#%%\n"
    }
   },
   "outputs": [
    {
     "data": {
      "image/png": "[encoded data removed]",
      "text/plain": [
       "<Figure size 1500x500 with 2 Axes>"
      ]
     },
     "metadata": {},
     "output_type": "display_data"
    }
   ],
   "source": [
    "from matplotlib import pyplot as plt\n",
    "\n",
    "plt.figure(figsize=(15,5))\n",
    "plt.subplot(121)\n",
    "plt.plot(x_axis, [item[0] for item in acc_arr], color='blue', label='Bagging')\n",
    "plt.plot(x_axis, [item[1] for item in acc_arr], color='red', label='AdaBoost')\n",
    "plt.xlabel('feature numbers')\n",
    "plt.ylabel('Accuracy')\n",
    "plt.legend()\n",
    "plt.subplot(122)\n",
    "plt.plot(x_axis, [item[0] for item in auc_arr], color='blue', label='Bagging')\n",
    "plt.plot(x_axis, [item[1] for item in auc_arr], color='red', label='AdaBoost')\n",
    "plt.xlabel('feature numbers')\n",
    "plt.ylabel('AUC')\n",
    "plt.legend()\n",
    "plt.show()"
   ]
  },
  {
   "cell_type": "markdown",
   "metadata": {
    "pycharm": {
     "name": "#%% md\n"
    }
   },
   "source": [
    "### 分析集成学习算法参数的影响\n",
    "针对Bagging算法，设置采样率0.6、决策树分类器，观察Accuracy和AUC随不同迭代次数的变化趋势。\n",
    "如下程序运行结果所示，\n",
    "1. Accuracy随迭代次数增多呈升高，最终趋于不变\n",
    "2. AUC随迭代次数增多变化平缓，总体上受迭代次数影响较小"
   ]
  },
  {
   "cell_type": "code",
   "execution_count": 41,
   "metadata": {
    "pycharm": {
     "name": "#%%\n"
    }
   },
   "outputs": [
    {
     "name": "stdout",
     "output_type": "stream",
     "text": [
      "Bagging using base classifier = 'DecisionTree', End with iter = 2\n",
      "Bagging using base classifier = 'DecisionTree', End with iter = 5\n",
      "Bagging using base classifier = 'DecisionTree', End with iter = 10\n",
      "Bagging using base classifier = 'DecisionTree', End with iter = 20\n",
      "Bagging using base classifier = 'DecisionTree', End with iter = 35\n",
      "Bagging using base classifier = 'DecisionTree', End with iter = 50\n"
     ]
    },
    {
     "data": {
      "text/plain": [
       "<matplotlib.legend.Legend at 0x193909c9280>"
      ]
     },
     "execution_count": 41,
     "metadata": {},
     "output_type": "execute_result"
    },
    {
     "data": {
      "image/png": "[encoded data removed]",
      "text/plain": [
       "<Figure size 1000x400 with 1 Axes>"
      ]
     },
     "metadata": {},
     "output_type": "display_data"
    }
   ],
   "source": [
    "iter_num = [2, 5, 10, 20, 35, 50]\n",
    "acc_arr = []\n",
    "auc_arr = []\n",
    "for num in iter_num:\n",
    "    bagg = bagging(X_train, y_train, sampling_rate=0.6, iter=num, classifier_name=\"DecisionTree\")\n",
    "    y_test_predict_bagg_proba = bagg(X_test)\n",
    "    y_test_predict_bagg = [1 if item >= 0.5 else 0 for item in y_test_predict_bagg_proba]\n",
    "    acc_bagg = accuracy_score(y_test, y_test_predict_bagg)\n",
    "    auc_bagg = roc_auc_score(y_test, y_test_predict_bagg)\n",
    "    acc_arr.append(acc_bagg)\n",
    "    auc_arr.append(auc_bagg)\n",
    "\n",
    "plt.figure(figsize=(10,4))\n",
    "plt.plot(iter_num, acc_arr, color='blue', label='Accuracy')\n",
    "plt.plot(iter_num, auc_arr, color='red', label='AUC')\n",
    "plt.xlabel('iteration number')\n",
    "plt.ylabel('ratio')\n",
    "plt.legend()"
   ]
  }
 ],
 "metadata": {
  "kernelspec": {
   "display_name": "Python 3 (ipykernel)",
   "language": "python",
   "name": "python3"
  },
  "language_info": {
   "codemirror_mode": {
    "name": "ipython",
    "version": 3
   },
   "file_extension": ".py",
   "mimetype": "text/x-python",
   "name": "python",
   "nbconvert_exporter": "python",
   "pygments_lexer": "ipython3",
   "version": "3.9.13"
  }
 },
 "nbformat": 4,
 "nbformat_minor": 4
}