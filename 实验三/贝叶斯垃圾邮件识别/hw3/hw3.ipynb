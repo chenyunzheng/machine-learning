{
 "cells": [
  {
   "cell_type": "markdown",
   "metadata": {},
   "source": [
    "本次作业以垃圾邮件分类任务为基础，要求提取文本特征并使用朴素贝叶斯算法进行垃圾邮件识别（调用已有工具包或自行实现）。"
   ]
  },
  {
   "cell_type": "markdown",
   "metadata": {},
   "source": [
    "### 任务介绍\n",
    "电子邮件是互联网的一项重要服务，在大家的学习、工作和生活中会广泛使用。但是大家的邮箱常常被各种各样的垃圾邮件填充了。有统计显示，每天互联网上产生的垃圾邮件有几百亿近千亿的量级。因此，对电子邮件服务提供商来说，垃圾邮件过滤是一项重要功能。而朴素贝叶斯算法在垃圾邮件识别任务上一直表现非常好，至今仍然有很多系统在使用朴素贝叶斯算法作为基本的垃圾邮件识别算法。\n",
    "\n",
    "本次实验数据集来自[Trec06](https://plg.uwaterloo.ca/cgi-bin/cgiwrap/gvcormac/foo06)的中文垃圾邮件数据集，目录解压后包含三个文件夹，其中data目录下是所有的邮件（未分词），已分词好的邮件在data_cut目录下。邮件分为邮件头部分和正文部分，两部分之间一般有空行隔开。标签数据在label文件夹下，文件中每行是标签和对应的邮件路径。‘spam’表示垃圾邮件，‘ham’表示正常邮件。\n",
    "\n",
    "本次实验\n",
    "\n",
    "基本要求：\n",
    "1. 提取正文部分的文本特征；\n",
    "2. 划分训练集和测试集（可以借助工具包。一般笔记本就足够运行所有数据，认为实现困难或算力不够的同学可以采样一部分数据进行实验。）；\n",
    "3. 使用朴素贝叶斯算法完成垃圾邮件的分类与预测，要求测试集准确率Accuracy、精准率Precision、召回率Recall均高于0.9（本次实验可以使用已有的一些工具包完成如sklearn）；\n",
    "4. 对比特征数目（词表大小）对模型效果的影响；\n",
    "5. 提交代码和实验报告。\n",
    "\n",
    "扩展要求：\n",
    "1. 邮件头信息有时也可以协助判断垃圾邮件，欢迎学有余力的同学们尝试；\n",
    "2. 尝试自行实现朴素贝叶斯算法细节；\n",
    "3. 尝试对比不同的概率计算方法。"
   ]
  },
  {
   "cell_type": "markdown",
   "metadata": {},
   "source": [
    "### 导入工具包"
   ]
  },
  {
   "cell_type": "code",
   "execution_count": 1,
   "metadata": {
    "pycharm": {
     "name": "#%%\n"
    }
   },
   "outputs": [
    {
     "name": "stdout",
     "output_type": "stream",
     "text": [
      " 课   程   背   景  每 一位 管理 和 技术人员 都 清楚 地 懂得  单纯 从 技术 角度 衡量 为 合算 的 方案  也许 却是 一个 财务 陷阱  表面 赢利 而 暗地里 亏损  使经 营者 无法 接受  如何 将 技术手段 与 财务 运作 相结合  使 每位 管理 和 技术人员 都 从 本 课程 通过 沙盘 模拟 和 案例 分析  使 企业 各级 管理 和 技术人员 掌握 财务管理 知识  利用 财务 信息 改进 管理决策  实现 管理 效益 最大化  通过 学习 本 课程  您 将     对 会计 与 财务管理 有 基本 了解  提高 日常 管理 活动 的 财务 可行性     通过 分析 关键 业绩 指标  形成 战略规划 与 全面 预算     突出 企业 管理 的 重心  形成 管理 的 系统性   课   程   大   纲  一  财务 工作 内容 及 作用   财务 专家 的 思维 模式   财务 工作 的 基本 内容   管理者 如何 利用 财务 进行 管理 和 决策 二  如何 阅读 和 分析 财务报表   会计报表 的 构成   损益表 的 阅读 与 分析   资产 负债表 的 阅读 与 分析   资金 流量 和 现金流量 表 的 阅读 与 分析   会计报表 之间 的 关系  案例 分析  读 报表  判断 企业 业绩 水平 三  如何 运用 财务 手段 进行 成本 控制   产品成本 的 概念 和 构成       本  浚利  分析 与 运用   标准 成本 制度 在 成本 控制 中 的 作用   如何 运用 目标 成本法 控制 产品成本  保证 利润 水平   如何 运用  作业 成本法 进行 管理 分析  实施 精细 成本 管理   如何 针对 沉没 成本 和 机会成本 进行 正确 决策   如何 改善 采购  生产 等 环节 的 运作 以 改良 企业 的 整体 财务状况  综合 案例 分析   管理 和 技术 方案 的 可行性 分析   新 产品开发 中 的 财务 可行性 分析   产品 增产  减产 时 的 财务 可行性 分析   生产 设备 改造 与 更新 的 决策分析   投资 项目 的 现金流 分析   投资 项目 评价 方法  净 现值 法分析  资金 时间 价值 分析   综合 案例 演练 五  公司 费用 及其 控制   公司 费用 的 构成   控制 费用 的 方法   影响 费用 诸 因素 的 分析   如何 针对 成本 中心 进行 费用 控制   如何 针对 利润 中心 进行 业绩考核   如何 针对 投资 中心 进行 业绩 评价   公司财务 分析 的 核心 思路   关键 财务指标 解析     盈利 能力 分析  资产 回报率  股东权益 回报率  资产 流动 速率   风险 指数 分析  流动比率  负债  权益 比率  营运 偿债 能力   财务报表 综合 解读  综合 运用 财务 信息 透视 公司 运作 水平  案例 分析  某 上市公司 的 财务状况 分析 与 评价 七  企业 运营 管理 沙盘 模拟 经  导   师   简   介  会 认证 职业 培训师  历任 跨国公司 生产 负责人  工业 工程 经 理  管理 会计 分析师  营运 总监 等 高级 管理 职务 多年  同时 还 担任  价值 工程  杂 志 审稿人  辽宁省 营口市 商业银行 独立 董 事 等 职务  对 企业 管理 有 较 深入 的 研究  王老师 主要 从事  技术 应用  成本 控制  管理 会计 决策 等 课程 的 讲授  先后 为     松下  可口可乐  康师傅  汇 源 果汁  雪津 啤酒  吉百利 食品  冠捷 电子   明达 塑胶  正新 橡胶  美国  集团  金山 石化  中国 化工 进出口 公司  正大 集团 大福 饲料  厦华 集团  灿坤 股份    东金 电子  太原 钢铁集团    深圳 开发 科技  大冷 王 运输 制冷  三洋 华强   等 知 名企 清晰  过程 互动  案例 生动  深受 学员 喜爱   授课 时间  地点   月       周六  日    上海  课   程   费   用   元  人  包含 培训 费用  午餐  证书  资料   优惠  三人 以上 参加  赠送 一 名额  联   系   我   们  联系人  桂 先生 电话             传真                  \n",
      "讲 的 是 孔子 后人 的 故事  一个 老 领导 回到 家乡  跟 儿子 感情 不 和  跟 贪财 的 孙子 孔为 本 和睦  老 领导 的 弟弟 魏宗万 是 赶 马车 的  有个 洋妞 大概 是 考察 民俗 的  在 他们 家 过年  孔为 本 总想 出国  被 爷爷 教育 了  最后  一家人 基本 和解  顺便 问 另一类 电影  北京 青年电影制片厂 的  中 越战 背景  一 军人 被 介绍 了 一个 对象  去 相亲  女方 是 军队 医院 的 护士  犹豫不决  总是 在 回忆 战场 上 负伤 的 男友  好像 还 没 死  最后 男方 表示 理解  归队 了  \n",
      "尊敬 的 贵 公司  财务  经理  负责人 您好  我 是 深圳 金海 实业 有限公司  广州  东莞  等 省市 有 分公司  我司 有 良好 的 社会关系 和 实力  因 每月 进项 多出 项少 现有 一部分 发票 可 优惠 对外 代开 税率 较 低  增值税 发票 为  其它 国税  地税  运输  广告 等 普通发票 为  的 税点  还 可以 根据 数目 大小 来衡 量 优惠 的 多少  希望 贵 公司  商家 等 来电 商谈 欢迎 合作  本 公司 郑重 承诺 所用 票据 可 到 税务局 验证 或 抵扣  欢迎 来电 进一步 商谈  电话     小时 服务  信箱       联系人  张 海南 顺祝 商祺 深圳市 金海 实业 有限公司 \n",
      "贵 公司 负责人  经理  财务  您好  深圳市 华龙 公司 受 多家 公司 委托 向外 低点 代开 部分 增值税 电脑 发票   左右  和 普通商品 销售税 发票   国税  地税 运输  广告  服务 等票  左右  还 可以 根据 所 做 数量 额度 的 大小 来 商讨 优惠 的 点数  本 公司 郑重 承诺 所用 绝对 是 真票  可验证 后 付款  此 信息 长期有效  如 须 进一步 洽商  请电   联系人  刘剑辉 顺祝 商祺  低点 代 开发票  \n"
     ]
    }
   ],
   "source": [
    "'''\n",
    "提示：\n",
    "若调用已有工具包，sklearn中提供了一些可能会用到的类。\n",
    "'''\n",
    "from sklearn.feature_extraction.text import CountVectorizer, TfidfVectorizer # 提取文本特征向量的类\n",
    "from sklearn.naive_bayes import MultinomialNB, BernoulliNB, ComplementNB # 三种朴素贝叶斯算法，差别在于估计p(x|y)的方式\n",
    "import re\n",
    "\n",
    "# 1. 提取正文部分的文本特征；\n",
    "data_path = './trec06c-utf8/data'\n",
    "data_cut_path = './trec06c-utf8/data_cut'\n",
    "label_file = './trec06c-utf8/label/index'\n",
    "print_email_count = 3\n",
    "email_addr_simple_mod = re.compile('<(.+@.+)>')\n",
    "dataset = []\n",
    "for label_line in open(label_file, mode='r', encoding='utf8'):\n",
    "    row = []\n",
    "    labels = label_line.strip().split(' ')\n",
    "    # 是否垃圾邮件\n",
    "    is_spam = 1 if labels[0] == 'spam' else 0\n",
    "    row.append(is_spam)\n",
    "    # 邮件路径\n",
    "    email_data_cut_path = data_cut_path + labels[1][len('../data'):]\n",
    "    row.append(email_data_cut_path)\n",
    "    # 邮件正文\n",
    "    email_body_start = False\n",
    "    email_body_str = ''\n",
    "    email_header_info = ''\n",
    "    email_addr_list = []\n",
    "    for email_line in open(email_data_cut_path, mode='r', encoding='utf8'):\n",
    "        email_line_trim = email_line.strip()\n",
    "        if email_line_trim != '':\n",
    "            if email_body_start:\n",
    "                # 邮件体组成一行，以空格分隔\n",
    "                email_body_str += (email_line_trim + ' ')\n",
    "            else:\n",
    "                # 邮件头（后期处理）\n",
    "                if len(email_addr_list) == 0:\n",
    "                    if email_line_trim.startswith('From:') or email_line_trim.startswith('Reply-To:'):\n",
    "                        email_addr_list = email_addr_simple_mod.findall(email_line_trim)\n",
    "                #continue\n",
    "        else:\n",
    "            # 分隔行/邮件体中的空行\n",
    "            email_body_start = True\n",
    "    # 过滤掉非中文字符\n",
    "    email_body_str = re.sub(r'[^\\u4e00-\\u9fa5 ]', '', email_body_str)\n",
    "    row.append(email_body_str)\n",
    "    if print_email_count >= 0:\n",
    "        print(email_body_str)\n",
    "        print_email_count -= 1\n",
    "    # 邮件头信息\n",
    "    email_header_info = email_addr_list[0] if len(email_addr_list) != 0 else ''\n",
    "    row.append(email_header_info)\n",
    "    dataset.append(row)"
   ]
  },
  {
   "cell_type": "code",
   "execution_count": 2,
   "outputs": [],
   "source": [
    "# 2. 划分训练集和测试集（可以借助工具包。一般笔记本就足够运行所有数据，认为实现困难或算力不够的同学可以采样一部分数据进行实验。）；\n",
    "train_set_ratio = 0.8\n",
    "train_row_num = int(len(dataset) * train_set_ratio)\n",
    "X_train = []\n",
    "y_train = []\n",
    "X_test = []\n",
    "y_test = []\n",
    "for index in range(len(dataset)):\n",
    "    if index < train_row_num:\n",
    "        X_train.append(dataset[index][2])\n",
    "        y_train.append(dataset[index][0])\n",
    "    else:\n",
    "        X_test.append(dataset[index][2])\n",
    "        y_test.append(dataset[index][0])"
   ],
   "metadata": {
    "collapsed": false,
    "pycharm": {
     "name": "#%%\n"
    }
   }
  },
  {
   "cell_type": "code",
   "execution_count": 3,
   "outputs": [
    {
     "name": "stdout",
     "output_type": "stream",
     "text": [
      "特征总数： 126551\n",
      "前50个特征： ['一一' '一一列举' '一一对应' '一丁点' '一丁点儿' '一万' '一万七千' '一万三千' '一万两千' '一万个' '一万二'\n",
      " '一万二千' '一万五' '一万五千个' '一万余' '一万倍' '一万元' '一万八千' '一万八千余' '一万六千多' '一万卷' '一万名'\n",
      " '一万四千' '一万块' '一万多' '一万多个' '一万多元' '一万多块' '一万左右' '一万年' '一万条' '一万次' '一万步'\n",
      " '一万遍' '一上' '一上午' '一上量' '一下' '一下一下' '一下下' '一下半' '一下头' '一下子' '一下子全部' '一下子发'\n",
      " '一下子成' '一下子把' '一下手' '一不做' '一不小心']\n",
      "              precision    recall  f1-score   support\n",
      "\n",
      "         ham     0.9335    0.9673    0.9501      4498\n",
      "        spam     0.9822    0.9632    0.9726      8426\n",
      "\n",
      "    accuracy                         0.9646     12924\n",
      "   macro avg     0.9579    0.9653    0.9614     12924\n",
      "weighted avg     0.9653    0.9646    0.9648     12924\n",
      "\n"
     ]
    }
   ],
   "source": [
    "# 3. 使用朴素贝叶斯算法完成垃圾邮件的分类与预测，要求测试集准确率Accuracy、精准率Precision、召回率Recall均高于0.9（本次实验可以使用已有的一些工具包完成如sklearn）；\n",
    "from sklearn.metrics import classification_report\n",
    "# 加载停用词\n",
    "stop_words = []\n",
    "for line in open('./cn_stopwords.txt', mode='r', encoding='utf8'):\n",
    "    stop_words.append(line.strip())\n",
    "\n",
    "vectorizer = CountVectorizer(stop_words=stop_words)\n",
    "X_train_count = vectorizer.fit_transform(X_train)\n",
    "print('特征总数：', len(vectorizer.get_feature_names_out()))\n",
    "print('前50个特征：', vectorizer.get_feature_names_out()[0:50])\n",
    "mnb_clf = MultinomialNB()\n",
    "mnb_clf.fit(X_train_count, y_train)\n",
    "X_test_count = vectorizer.transform(X_test)\n",
    "y_test_predict = mnb_clf.predict(X_test_count)\n",
    "print(classification_report(y_test, y_test_predict, target_names=['ham','spam'], digits=4))"
   ],
   "metadata": {
    "collapsed": false,
    "pycharm": {
     "name": "#%%\n"
    }
   }
  },
  {
   "cell_type": "code",
   "execution_count": 4,
   "outputs": [
    {
     "name": "stdout",
     "output_type": "stream",
     "text": [
      "特征总数： 20000\n",
      "              precision    recall  f1-score   support\n",
      "\n",
      "         ham     0.9282    0.9660    0.9467      4498\n",
      "        spam     0.9814    0.9601    0.9707      8426\n",
      "\n",
      "    accuracy                         0.9622     12924\n",
      "   macro avg     0.9548    0.9631    0.9587     12924\n",
      "weighted avg     0.9629    0.9622    0.9623     12924\n",
      "\n",
      "特征数目由126551降到20000，准确率Accuracy从0.9646降到0.9622（只是测试）\n"
     ]
    }
   ],
   "source": [
    "# 4. 对比特征数目（词表大小）对模型效果的影响；\n",
    "vectorizer_maxfeat = CountVectorizer(stop_words=stop_words, max_features=20000)\n",
    "X_train_count = vectorizer_maxfeat.fit_transform(X_train)\n",
    "print('特征总数：', len(vectorizer_maxfeat.get_feature_names_out()))\n",
    "mnb_clf = MultinomialNB()\n",
    "mnb_clf.fit(X_train_count, y_train)\n",
    "X_test_count = vectorizer_maxfeat.transform(X_test)\n",
    "y_test_predict = mnb_clf.predict(X_test_count)\n",
    "print(classification_report(y_test, y_test_predict, target_names=['ham','spam'], digits=4))\n",
    "print('特征数目由126551降到20000，准确率Accuracy从0.9646降到0.9622（只是测试）')"
   ],
   "metadata": {
    "collapsed": false,
    "pycharm": {
     "name": "#%%\n"
    }
   }
  },
  {
   "cell_type": "code",
   "execution_count": 5,
   "outputs": [
    {
     "name": "stdout",
     "output_type": "stream",
     "text": [
      "特征总数： 130715\n",
      "Classification Report for MultinomialNB\n",
      "              precision    recall  f1-score   support\n",
      "\n",
      "         ham     0.9449    0.9724    0.9585      4498\n",
      "        spam     0.9851    0.9697    0.9773      8426\n",
      "\n",
      "    accuracy                         0.9707     12924\n",
      "   macro avg     0.9650    0.9711    0.9679     12924\n",
      "weighted avg     0.9711    0.9707    0.9708     12924\n",
      "\n",
      "Classification Report for BernoulliNB\n",
      "              precision    recall  f1-score   support\n",
      "\n",
      "         ham     0.8184    0.9758    0.8902      4498\n",
      "        spam     0.9856    0.8844    0.9323      8426\n",
      "\n",
      "    accuracy                         0.9162     12924\n",
      "   macro avg     0.9020    0.9301    0.9112     12924\n",
      "weighted avg     0.9274    0.9162    0.9176     12924\n",
      "\n",
      "Classification Report for ComplementNB\n",
      "              precision    recall  f1-score   support\n",
      "\n",
      "         ham     0.9231    0.9740    0.9479      4498\n",
      "        spam     0.9857    0.9567    0.9710      8426\n",
      "\n",
      "    accuracy                         0.9627     12924\n",
      "   macro avg     0.9544    0.9653    0.9594     12924\n",
      "weighted avg     0.9639    0.9627    0.9629     12924\n",
      "\n"
     ]
    }
   ],
   "source": [
    "# 扩展要求：\n",
    "# 1. 邮件头信息有时也可以协助判断垃圾邮件，欢迎学有余力的同学们尝试；\n",
    "# 提取发件人邮箱地址作为特征之一\n",
    "train_set_ratio = 0.8\n",
    "train_row_num = int(len(dataset) * train_set_ratio)\n",
    "X_train = []\n",
    "y_train = []\n",
    "X_test = []\n",
    "y_test = []\n",
    "for index in range(len(dataset)):\n",
    "    if index < train_row_num:\n",
    "        X_train.append(dataset[index][2] + dataset[index][3])\n",
    "        y_train.append(dataset[index][0])\n",
    "    else:\n",
    "        X_test.append(dataset[index][2] + dataset[index][3])\n",
    "        y_test.append(dataset[index][0])\n",
    "\n",
    "vectorizer = CountVectorizer(stop_words=stop_words)\n",
    "X_train_count = vectorizer.fit_transform(X_train)\n",
    "print('特征总数：', len(vectorizer.get_feature_names_out()))\n",
    "X_test_count = vectorizer.transform(X_test)\n",
    "mnb_clf = MultinomialNB()\n",
    "mnb_clf.fit(X_train_count, y_train)\n",
    "y_test_predict = mnb_clf.predict(X_test_count)\n",
    "print('Classification Report for MultinomialNB')\n",
    "print(classification_report(y_test, y_test_predict, target_names=['ham','spam'], digits=4))\n",
    "\n",
    "# 2. 尝试自行实现朴素贝叶斯算法细节；\n",
    "# 暂未实现\n",
    "# 根据训练集计算 0-ham；1-spam对应数据集中各个特征的频次及概率，再针对测试集每个样本分别计算0-ham；1-spam下的联合概率，取最大对应的label\n",
    "\n",
    "# 3. 尝试对比不同的概率计算方法。\n",
    "bnb_clf = BernoulliNB()\n",
    "bnb_clf.fit(X_train_count, y_train)\n",
    "y_test_predict = bnb_clf.predict(X_test_count)\n",
    "print('Classification Report for BernoulliNB')\n",
    "print(classification_report(y_test, y_test_predict, target_names=['ham','spam'], digits=4))\n",
    "cnb_clf = ComplementNB()\n",
    "cnb_clf.fit(X_train_count, y_train)\n",
    "y_test_predict = cnb_clf.predict(X_test_count)\n",
    "print('Classification Report for ComplementNB')\n",
    "print(classification_report(y_test, y_test_predict, target_names=['ham','spam'], digits=4))"
   ],
   "metadata": {
    "collapsed": false,
    "pycharm": {
     "name": "#%%\n"
    }
   }
  }
 ],
 "metadata": {
  "kernelspec": {
   "display_name": "Python 3",
   "language": "python",
   "name": "python3"
  },
  "language_info": {
   "codemirror_mode": {
    "name": "ipython",
    "version": 3
   },
   "file_extension": ".py",
   "mimetype": "text/x-python",
   "name": "python",
   "nbconvert_exporter": "python",
   "pygments_lexer": "ipython3",
   "version": "3.7.4"
  }
 },
 "nbformat": 4,
 "nbformat_minor": 4
}