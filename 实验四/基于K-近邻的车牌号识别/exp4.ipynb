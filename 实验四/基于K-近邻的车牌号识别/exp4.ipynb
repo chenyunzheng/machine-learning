{
 "cells": [
  {
   "cell_type": "markdown",
   "metadata": {},
   "source": [
    "# Exp4: 基于K-近邻的车牌号识别"
   ]
  },
  {
   "cell_type": "markdown",
   "metadata": {},
   "source": [
    "## 一、案例简介\n",
    "\n",
    "图像的智能处理一直是人工智能领域广受关注的一类技术，代表性的如人脸识别与 CT 肿瘤识别，在人工智能落地的进程中发挥着重要作用。其中车牌号识别作为一个早期应用场景，已经融入日常生活中，为我们提供了诸多便利，在各地的停车场和出入口都能看到它的身影。车牌号识别往往分为字符划分和字符识别两个子任务，本案例我们将关注字符识别的任务，尝试用 K-NN 的方法对分割好的字符图像进行自动识别和转化。\n",
    "\n",
    "## 二、作业说明\n",
    "\n",
    "### 基本要求\n",
    "* 完成数据的读入和表示，将图片表示成向量并和 label 对应上；\n",
    "* 构建 K-NN 模型（可调库）对测试集中的图片进行预测并计算准确率；\n",
    "* 分析当 K 取不同值时测试准确率的变化。\n",
    "\n",
    "### 扩展要求\n",
    "* 分析不同距离度量方式对模型效果的影响；\n",
    "* 对比平权和加权 K-NN 的效果；\n",
    "* 分析训练集大小对测试结果的影响。"
   ]
  },
  {
   "cell_type": "markdown",
   "metadata": {},
   "source": [
    "## 三、数据概览\n",
    "本次我们使用已经分割好的车牌图片作为数据集，包括数字 0-9、字母 A-Z（不包含 O 和 I）以及省份简称共 65 个类，编号从 0 到 64。数据已经分成了训练集和测试集，里面的文件夹用 label 编号命名，一个文件夹下的所有图片都属于该文件夹对应的类，每个图片都是 20 * 20 的二值化灰度图。\n",
    "\n",
    "下面演示一下如何借助 PIL 库将图片转化为向量："
   ]
  },
  {
   "cell_type": "code",
   "execution_count": 11,
   "metadata": {},
   "outputs": [
    {
     "data": {
      "text/plain": "<PIL.JpegImagePlugin.JpegImageFile image mode=L size=20x20>",
      "image/png": "[encoded data removed]"
     },
     "execution_count": 11,
     "metadata": {},
     "output_type": "execute_result"
    }
   ],
   "source": [
    "from PIL import Image\n",
    "img = Image.open('data/train/0/4-3.jpg')  # 打开图片\n",
    "img  # 显示图片from PIL import Image\n",
    "img = Image.open('data/train/0/4-3.jpg')  # 打开图片\n",
    "img  # 显示图片"
   ]
  },
  {
   "cell_type": "code",
   "execution_count": 12,
   "metadata": {},
   "outputs": [
    {
     "data": {
      "text/plain": "(20, 20)"
     },
     "execution_count": 12,
     "metadata": {},
     "output_type": "execute_result"
    }
   ],
   "source": [
    "import numpy as np\n",
    "pixels = np.array(img)  # 转化为 numpy 矩阵\n",
    "pixels.shape"
   ]
  },
  {
   "cell_type": "markdown",
   "metadata": {},
   "source": [
    "## 四、模型构建\n",
    "（完成）"
   ]
  },
  {
   "cell_type": "code",
   "execution_count": 13,
   "metadata": {},
   "outputs": [
    {
     "name": "stdout",
     "output_type": "stream",
     "text": [
      "length of X_train = 15954\n",
      "number of X_train features = 400\n",
      "length of X_test = 4665\n",
      "number of X_test features = 400\n"
     ]
    }
   ],
   "source": [
    "# * 完成数据的读入和表示，将图片表示成向量并和 label 对应上；\n",
    "import os\n",
    "\n",
    "train_data_path = './data/train'\n",
    "test_data_path = './data/test'\n",
    "X_train = []\n",
    "y_train = []\n",
    "X_test = []\n",
    "y_test = []\n",
    "# train dataset\n",
    "for sub_dir in os.listdir(train_data_path):\n",
    "    if sub_dir == '.DS_Store':\n",
    "        continue\n",
    "    sub_path = train_data_path + '/' + sub_dir\n",
    "    for img_file in os.listdir(sub_path):\n",
    "        img = Image.open(sub_path + '/' + img_file)\n",
    "        pixels_vector = np.array(img).flatten() # 特征向量\n",
    "        X_train.append(pixels_vector)\n",
    "        y_train.append(int(sub_dir))\n",
    "print('length of X_train =', str(len(X_train)))\n",
    "print('number of X_train features =', str(len(X_train[0])))\n",
    "# test dataset\n",
    "for sub_dir in os.listdir(test_data_path):\n",
    "    if sub_dir == '.DS_Store':\n",
    "        continue\n",
    "    sub_path = test_data_path + '/' + sub_dir\n",
    "    for img_file in os.listdir(sub_path):\n",
    "        img = Image.open(sub_path + '/' + img_file)\n",
    "        pixels_vector = np.array(img).flatten() # 特征向量\n",
    "        X_test.append(pixels_vector)\n",
    "        y_test.append(int(sub_dir))\n",
    "print('length of X_test =', str(len(X_test)))\n",
    "print('number of X_test features =', str(len(X_test[0])))"
   ]
  },
  {
   "cell_type": "code",
   "execution_count": 14,
   "metadata": {
    "pycharm": {
     "name": "#%%\n"
    }
   },
   "outputs": [
    {
     "name": "stdout",
     "output_type": "stream",
     "text": [
      "              precision    recall  f1-score   support\n",
      "\n",
      "           0     0.2440    0.8171    0.3758       175\n",
      "           1     0.6483    1.0000    0.7866        94\n",
      "           2     0.6944    1.0000    0.8197        75\n",
      "           3     0.9506    0.9506    0.9506        81\n",
      "           4     0.7083    0.9067    0.7953       150\n",
      "           5     0.6281    0.9744    0.7638        78\n",
      "           6     0.9451    1.0000    0.9718        86\n",
      "           7     0.7156    0.9873    0.8298        79\n",
      "           8     0.4408    0.9781    0.6077       137\n",
      "           9     0.8973    0.9924    0.9424       132\n",
      "           A     0.9871    0.8767    0.9287       438\n",
      "           B     0.9516    0.1405    0.2448       420\n",
      "           C     0.7455    1.0000    0.8542       246\n",
      "           D     0.3333    0.0267    0.0494       150\n",
      "           E     0.9149    0.4343    0.5890       198\n",
      "           F     0.4898    1.0000    0.6575       120\n",
      "           G     0.8596    0.4537    0.5939       108\n",
      "           H     0.4016    0.7083    0.5126        72\n",
      "           J     0.8382    0.8636    0.8507        66\n",
      "           K     0.9219    0.6556    0.7662        90\n",
      "           L     0.6581    0.9872    0.7897        78\n",
      "           M     1.0000    0.7381    0.8493       126\n",
      "           N     0.9778    0.4583    0.6241        96\n",
      "           P     0.8525    0.7222    0.7820        72\n",
      "           Q     1.0000    0.2762    0.4328       210\n",
      "           R     0.9583    0.4792    0.6389        96\n",
      "           S     1.0000    0.6739    0.8052       138\n",
      "           T     0.8788    0.6042    0.7160        96\n",
      "           U     0.8000    0.2222    0.3478        54\n",
      "           V     0.9655    0.9333    0.9492        90\n",
      "           W     1.0000    0.9242    0.9606        66\n",
      "           X     1.0000    0.8333    0.9091        54\n",
      "           Y     0.9608    0.8167    0.8829        60\n",
      "           Z     1.0000    0.2037    0.3385        54\n",
      "           皖     0.6667    1.0000    0.8000        20\n",
      "           沪     1.0000    1.0000    1.0000        18\n",
      "           津     0.4762    1.0000    0.6452        20\n",
      "           渝     0.4000    1.0000    0.5714         4\n",
      "           冀     0.8000    0.6667    0.7273        12\n",
      "           晋     0.9231    1.0000    0.9600        12\n",
      "           蒙     1.0000    0.8750    0.9333         8\n",
      "           辽     0.8000    1.0000    0.8889         8\n",
      "           吉     0.7778    0.8750    0.8235         8\n",
      "           黑     0.7857    0.9167    0.8462        12\n",
      "           苏     0.8462    1.0000    0.9167        33\n",
      "           浙     0.8485    0.8485    0.8485        33\n",
      "           京     0.9545    0.6364    0.7636        33\n",
      "           闽     0.9032    0.8485    0.8750        33\n",
      "           赣     0.8750    0.8750    0.8750         8\n",
      "           鲁     0.9167    0.9167    0.9167        12\n",
      "           豫     0.5926    1.0000    0.7442        16\n",
      "           鄂     1.0000    1.0000    1.0000         8\n",
      "           湘     0.7273    1.0000    0.8421         8\n",
      "           粤     0.7209    0.9394    0.8158        33\n",
      "           桂     0.2727    0.7500    0.4000         4\n",
      "           琼     1.0000    0.5000    0.6667         4\n",
      "           川     0.1613    1.0000    0.2778         5\n",
      "           贵     0.6667    0.5000    0.5714         4\n",
      "           云     1.0000    1.0000    1.0000         4\n",
      "           藏     0.0000    0.0000    0.0000         0\n",
      "           陕     0.2500    0.7500    0.3750         4\n",
      "           甘     1.0000    0.2500    0.4000         4\n",
      "           青     0.6667    1.0000    0.8000         4\n",
      "           宁     0.2500    0.7500    0.3750         4\n",
      "           新     1.0000    1.0000    1.0000         4\n",
      "\n",
      "   micro avg     0.6999    0.6999    0.6999      4665\n",
      "   macro avg     0.7638    0.7775    0.7166      4665\n",
      "weighted avg     0.8123    0.6999    0.6808      4665\n",
      "\n",
      "准确率 accuracy = 0.6999\n"
     ]
    }
   ],
   "source": [
    "# * 构建 K-NN 模型（可调库）对测试集中的图片进行预测并计算准确率；\n",
    "from sklearn.neighbors import NearestNeighbors, KNeighborsClassifier\n",
    "from sklearn.metrics import classification_report, accuracy_score\n",
    "\n",
    "digits_labels = ['0','1','2','3','4','5','6','7','8','9']\n",
    "alphabet_labels = ['A','B','C','D','E','F','G','H','J','K','L','M','N','P','Q','R','S','T','U','V','W','X','Y','Z']\n",
    "province_labels = ['皖','沪','津','渝','冀','晋','蒙','辽','吉','黑','苏','浙','京','闽','赣','鲁','豫','鄂','湘','粤','桂','琼','川','贵','云','藏','陕','甘','青','宁','新']\n",
    "label_names = []\n",
    "alphabet_labels.extend(province_labels)\n",
    "digits_labels.extend(alphabet_labels)\n",
    "label_names.extend(digits_labels)\n",
    "\n",
    "neigh = KNeighborsClassifier(n_neighbors=3)\n",
    "# 训练集拟合（构建树）\n",
    "neigh.fit(X_train, y_train)\n",
    "# 测试集预测\n",
    "y_test_predict = neigh.predict(X_test)\n",
    "# 分类结果分析\n",
    "print(classification_report(y_test, y_test_predict, digits=4, labels=range(len(label_names)), target_names=label_names, zero_division=0.0))\n",
    "print('准确率 accuracy = {:.4f}'.format(accuracy_score(y_test, y_test_predict)))"
   ]
  },
  {
   "cell_type": "markdown",
   "source": [
    "#### 测试集预测准确率\n",
    "准确率 accuracy = 0.6999"
   ],
   "metadata": {
    "collapsed": false,
    "pycharm": {
     "name": "#%% md\n"
    }
   }
  },
  {
   "cell_type": "code",
   "execution_count": 15,
   "metadata": {
    "pycharm": {
     "name": "#%%\n"
    },
    "scrolled": true
   },
   "outputs": [
    {
     "data": {
      "text/plain": "<Figure size 640x480 with 1 Axes>",
      "image/png": "[encoded data removed]"
     },
     "metadata": {},
     "output_type": "display_data"
    }
   ],
   "source": [
    "# * 分析当 K 取不同值时测试准确率的变化。\n",
    "import matplotlib.pyplot as plt\n",
    "\n",
    "K = [1, 3, 5, 10, 30, 50, 100, 300]\n",
    "accuracy_arr = []\n",
    "for _k in K:\n",
    "    neigh = KNeighborsClassifier(n_neighbors=_k)\n",
    "    neigh.fit(X_train, y_train)\n",
    "    y_test_predict = neigh.predict(X_test)\n",
    "    accuracy_arr.append(accuracy_score(y_test, y_test_predict))\n",
    "\n",
    "plt.figure()\n",
    "plt.plot(K, accuracy_arr)\n",
    "plt.xlabel('K-NN分类中K值')\n",
    "plt.ylabel('准确率Accuracy')\n",
    "plt.rcParams['font.sans-serif'] = ['Kaitt', 'SimHei']\n",
    "plt.rcParams['axes.unicode_minus'] = False\n",
    "plt.show()"
   ]
  },
  {
   "cell_type": "markdown",
   "metadata": {},
   "source": [
    "#### 准确率随K值变化\n",
    "当K增大时，准确率呈降低趋势"
   ]
  },
  {
   "cell_type": "code",
   "execution_count": 16,
   "metadata": {
    "pycharm": {
     "name": "#%%\n"
    }
   },
   "outputs": [
    {
     "data": {
      "text/plain": "<Figure size 640x480 with 1 Axes>",
      "image/png": "[encoded data removed]"
     },
     "metadata": {},
     "output_type": "display_data"
    }
   ],
   "source": [
    "# * 分析不同距离度量方式对模型效果的影响；\n",
    "METRICS = [\"euclidean\", \"manhattan\", \"chebyshev\"]\n",
    "\n",
    "accuracy_arr = []\n",
    "for metric in METRICS:\n",
    "    neigh = KNeighborsClassifier(n_neighbors=3, metric=metric)\n",
    "    neigh.fit(X_train, y_train)\n",
    "    y_test_predict = neigh.predict(X_test)\n",
    "    accuracy_arr.append(accuracy_score(y_test, y_test_predict))\n",
    "\n",
    "plt.figure()\n",
    "plt.plot(METRICS, accuracy_arr)\n",
    "plt.xlabel('距离度量方式')\n",
    "plt.ylabel('准确率Accuracy')\n",
    "plt.rcParams['font.sans-serif'] = ['Kaitt', 'SimHei']\n",
    "plt.rcParams['axes.unicode_minus'] = False\n",
    "plt.show()"
   ]
  },
  {
   "cell_type": "markdown",
   "metadata": {
    "pycharm": {
     "name": "#%% md\n"
    }
   },
   "source": [
    "#### 不同距离度量方式对模型效果的影响\n",
    "以上展示 3-NN下，不同距离度量方式（欧式、曼哈顿、切比雪夫）得到的准确率，以欧氏距离准确率最高"
   ]
  },
  {
   "cell_type": "code",
   "execution_count": 17,
   "metadata": {
    "pycharm": {
     "name": "#%%\n"
    }
   },
   "outputs": [
    {
     "name": "stdout",
     "output_type": "stream",
     "text": [
      "3-NN下，使用平权得到准确率 Accuracy=0.6999\n",
      "3-NN下，使用距离加权得到准确率 Accuracy=0.7104\n"
     ]
    }
   ],
   "source": [
    "# * 对比平权和加权 K-NN 的效果；\n",
    "neigh = KNeighborsClassifier(n_neighbors=3, weights='uniform')\n",
    "neigh.fit(X_train, y_train)\n",
    "y_test_predict = neigh.predict(X_test)\n",
    "print(\"3-NN下，使用平权得到准确率 Accuracy={:.4f}\".format(accuracy_score(y_test, y_test_predict)))\n",
    "\n",
    "neigh = KNeighborsClassifier(n_neighbors=3, weights='distance')\n",
    "neigh.fit(X_train, y_train)\n",
    "y_test_predict = neigh.predict(X_test)\n",
    "print(\"3-NN下，使用距离加权得到准确率 Accuracy={:.4f}\".format(accuracy_score(y_test, y_test_predict)))"
   ]
  },
  {
   "cell_type": "markdown",
   "source": [
    "#### 对比平权和加权 K-NN 的效果\n",
    "在 3-NN下，距离加权的准确率高于平权准确率"
   ],
   "metadata": {
    "collapsed": false,
    "pycharm": {
     "name": "#%% md\n"
    }
   }
  },
  {
   "cell_type": "code",
   "execution_count": 18,
   "outputs": [
    {
     "name": "stdout",
     "output_type": "stream",
     "text": [
      "3-NN且训练集为原始数据集的0.10时，得到准确率 Accuracy=0.5878\n",
      "3-NN且训练集为原始数据集的0.30时，得到准确率 Accuracy=0.6647\n",
      "3-NN且训练集为原始数据集的0.50时，得到准确率 Accuracy=0.6836\n",
      "3-NN且训练集为原始数据集的0.70时，得到准确率 Accuracy=0.6907\n"
     ]
    },
    {
     "data": {
      "text/plain": "<Figure size 640x480 with 1 Axes>",
      "image/png": "[encoded data removed]"
     },
     "metadata": {},
     "output_type": "display_data"
    }
   ],
   "source": [
    "# * 分析训练集大小对测试结果的影响。\n",
    "import numpy as np\n",
    "train_set_ratio = [.1, .3, .5, .7]\n",
    "accuracy_arr = []\n",
    "np_y_train = np.array(y_train)\n",
    "for ratio in train_set_ratio:\n",
    "    selected_idx = []\n",
    "    for i in range(len(label_names)):\n",
    "        idx = np.where(np_y_train==i)\n",
    "        i_idx = idx[0]\n",
    "        selected_i_idx = i_idx[:int(len(i_idx) * ratio)]\n",
    "        selected_idx.extend(selected_i_idx)\n",
    "\n",
    "    selected_X_train = [ X_train[i] for i in selected_idx ]\n",
    "    selected_y_train = [ y_train[i] for i in selected_idx ]\n",
    "    neigh = KNeighborsClassifier(n_neighbors=3)\n",
    "    # 在训练集子集上拟合\n",
    "    neigh.fit(selected_X_train, selected_y_train)\n",
    "    y_test_predict = neigh.predict(X_test)\n",
    "    accuracy = accuracy_score(y_test, y_test_predict)\n",
    "    accuracy_arr.append(accuracy)\n",
    "    print(\"3-NN且训练集为原始数据集的{:.2f}时，得到准确率 Accuracy={:.4f}\".format(ratio, accuracy))\n",
    "\n",
    "plt.figure()\n",
    "plt.plot(train_set_ratio, accuracy_arr)\n",
    "plt.xlabel('训练集子集占比')\n",
    "plt.ylabel('准确率Accuracy')\n",
    "plt.rcParams['font.sans-serif'] = ['Kaitt', 'SimHei']\n",
    "plt.rcParams['axes.unicode_minus'] = False\n",
    "plt.show()"
   ],
   "metadata": {
    "collapsed": false,
    "pycharm": {
     "name": "#%%\n"
    }
   }
  },
  {
   "cell_type": "markdown",
   "source": [
    "#### 分析训练集大小对测试结果的影响\n",
    "以上展示准确率随使用的训练集子集变化趋势，成正相关"
   ],
   "metadata": {
    "collapsed": false,
    "pycharm": {
     "name": "#%% md\n"
    }
   }
  }
 ],
 "metadata": {
  "kernelspec": {
   "display_name": "Python 3 (ipykernel)",
   "language": "python",
   "name": "python3"
  },
  "language_info": {
   "codemirror_mode": {
    "name": "ipython",
    "version": 3
   },
   "file_extension": ".py",
   "mimetype": "text/x-python",
   "name": "python",
   "nbconvert_exporter": "python",
   "pygments_lexer": "ipython3",
   "version": "3.9.13"
  }
 },
 "nbformat": 4,
 "nbformat_minor": 4
}